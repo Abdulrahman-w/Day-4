{
 "cells": [
  {
   "cell_type": "markdown",
   "metadata": {
    "id": "E9Y5ss1ZYj3r"
   },
   "source": [
    "# Python_Lab_2.2\n"
   ]
  },
  {
   "cell_type": "markdown",
   "metadata": {
    "id": "Q1kAqc72Yj3t"
   },
   "source": [
    "### Task 1\n",
    "1. Write a program that prompts the user to enter two numbers and prints their division. Handle cases where the user enters non-numeric values or attempts to divide by zero using a try-except block.\n"
   ]
  },
  {
   "cell_type": "code",
   "execution_count": null,
   "metadata": {
    "id": "H-xyoRTVYj3t"
   },
   "outputs": [],
   "source": [
    "# write your code here ^_^\n",
    "def div(a,b):\n",
    "    sum = input(a/b)\n",
    "    try:\n",
    "        \n",
    "    "
   ]
  },
  {
   "cell_type": "code",
   "execution_count": 18,
   "metadata": {},
   "outputs": [
    {
     "name": "stdin",
     "output_type": "stream",
     "text": [
      "Enter the first number:  1.2\n",
      "Enter the second number:  1.2\n"
     ]
    },
    {
     "name": "stdout",
     "output_type": "stream",
     "text": [
      "1.2 / 1.2 =1.0\n"
     ]
    }
   ],
   "source": [
    "def divide_numbers():\n",
    "    try:\n",
    "        num1 = float(input(\"Enter the first number: \"))\n",
    "        num2 = float(input(\"Enter the second number: \"))\n",
    "\n",
    "        if num2 == 0:\n",
    "            raise ValueError(\"Cannot divide by zero.\")\n",
    "\n",
    "        result = num1 / num2\n",
    "        print(f\"{num1} / {num2} ={result}\")\n",
    "\n",
    "    except ValueError as e:\n",
    "        print(f\"Error: {e}\")\n",
    "\n",
    "divide_numbers()"
   ]
  },
  {
   "cell_type": "markdown",
   "metadata": {
    "id": "CPWcDSC_Yj3u"
   },
   "source": [
    "### Task 2\n",
    "- Use \"Random\" library to do the following:\n",
    "    1. Create a list of random numbers using list comprehension.\n",
    "    2. Create a list of squares of the even numbers from random numbers using list comprehension.\n",
    "    3. Create a list of tuples (number, square) for random numbers using list comprehension."
   ]
  },
  {
   "cell_type": "code",
   "execution_count": 45,
   "metadata": {
    "id": "Yfq-i6CeYj3u"
   },
   "outputs": [
    {
     "name": "stdout",
     "output_type": "stream",
     "text": [
      "[119, 154, 168, 109, 123, 101, 199, 120, 137, 158]\n"
     ]
    }
   ],
   "source": [
    "# write your code here ^_^\n",
    "#Q1\n",
    "import random as rnd\n",
    "\n",
    "list_comp = [rnd.randint(100,200) for _ in range(10)]\n",
    "print(list_comp)"
   ]
  },
  {
   "cell_type": "code",
   "execution_count": 85,
   "metadata": {},
   "outputs": [
    {
     "name": "stdout",
     "output_type": "stream",
     "text": [
      "[36, 16, 16, 4, 16, 36]\n"
     ]
    }
   ],
   "source": [
    "#Q2\n",
    "list_comp = [rnd.randint(1,11) for _ in range(10)]\n",
    "even_squares = [num**2 for num in list_comp if num % 2 == 0]\n",
    "print(even_squares)"
   ]
  },
  {
   "cell_type": "code",
   "execution_count": 89,
   "metadata": {},
   "outputs": [
    {
     "name": "stdout",
     "output_type": "stream",
     "text": [
      "[(6, 36), (4, 16), (5, 25), (1, 1), (4, 16), (11, 121), (2, 4), (3, 9), (4, 16), (6, 36)]\n"
     ]
    }
   ],
   "source": [
    "#Q3\n",
    "ls_random = [(num, num**2) for num in list_comp]\n",
    "print(ls_random)"
   ]
  },
  {
   "cell_type": "markdown",
   "metadata": {
    "id": "jYdOq46NYj3u"
   },
   "source": [
    "### Task 3\n",
    "- Create a dictionary where the keys are numbers from 1 to 5 and the values are list of their squares and cubes.\n",
    "\n",
    "  - **hint**: use dictionary of list comprehension.\n",
    "\n",
    "- Create a dictionary from two lists (one with keys and one with values) using dictionary comprehension.\n",
    "\n"
   ]
  },
  {
   "cell_type": "code",
   "execution_count": 97,
   "metadata": {
    "id": "IEnsiNmCYj3u"
   },
   "outputs": [
    {
     "name": "stdout",
     "output_type": "stream",
     "text": [
      "{1: 1, 4: 8, 9: 27, 16: 64, 25: 125}\n"
     ]
    }
   ],
   "source": [
    "# write your code here ^_^\n",
    "l1 = [1,2,3,4,5]\n",
    "l2 = [1,2,3,4,5]\n",
    "dict_comp = {x**2:y**3 for x,y in  zip(l1,l2)}\n",
    "print(dict_comp)"
   ]
  },
  {
   "cell_type": "markdown",
   "metadata": {
    "id": "6T9TCQ8SYj3v"
   },
   "source": [
    "### Task 4\n",
    "- Given a dictionary where keys are student names and values are lists of their scores, write a function that updates the scores of students who have achieved a perfect score (100) by adding a bonus of 5 points to each score. Use dictionary comprehension to achieve this.\n",
    "\n",
    "    - Implement the function add_bonus_to_perfect_scores(student_scores) that adds a bonus of 5 points to each score of students who have achieved a perfect score (100)."
   ]
  },
  {
   "cell_type": "code",
   "execution_count": 103,
   "metadata": {
    "id": "T3R_VsQpYj3v"
   },
   "outputs": [
    {
     "name": "stdout",
     "output_type": "stream",
     "text": [
      "{'Salem': [105, 70, 99], 'Fiasal': [65, 105, 88], 'Abdulrahman': [105, 105, 99]}\n"
     ]
    }
   ],
   "source": [
    "# write your code here ^_^\n",
    "student_scores = {\n",
    "    \"Salem\": [100, 70, 99],\n",
    "    \"Fiasal\": [65, 100, 88],\n",
    "    \"Abdulrahman\": [100, 100, 99]}\n",
    "def add_bonus_to_perfect_scores(student_scores):\n",
    "\n",
    "  return {\n",
    "      student: [score + 5 if score == 100 else score for score in scores]\n",
    "      for student, scores in student_scores.items()\n",
    "  }\n",
    "\n",
    "upd_scores = add_bonus_to_perfect_scores(student_scores)\n",
    "print(upd_scores)"
   ]
  },
  {
   "cell_type": "code",
   "execution_count": 119,
   "metadata": {},
   "outputs": [
    {
     "name": "stdout",
     "output_type": "stream",
     "text": [
      "{'Salem': [105, 70, 99], 'Fiasal': [65, 105, 88], 'Abdulrahman': [105, 105, 99]}\n"
     ]
    }
   ],
   "source": [
    "# write your code here ^_^\n",
    "student_scores = {\n",
    "    \"Salem\": [100, 70, 99],\n",
    "    \"Fiasal\": [65, 100, 88],\n",
    "    \"Abdulrahman\": [100, 100, 99]}\n",
    "def add_bonus_to_perfect_scores(student_scores):\n",
    "\n",
    "    return {std: [score + 5 if score == 100 else score for score in student_scores[std]] for std in student_scores}\n",
    "\n",
    "upd_scores = add_bonus_to_perfect_scores(student_scores)\n",
    "print(upd_scores)"
   ]
  },
  {
   "cell_type": "markdown",
   "metadata": {
    "id": "rJkOEFAwYj3v"
   },
   "source": []
  }
 ],
 "metadata": {
  "colab": {
   "provenance": []
  },
  "kernelspec": {
   "display_name": "Python 3 (ipykernel)",
   "language": "python",
   "name": "python3"
  },
  "language_info": {
   "codemirror_mode": {
    "name": "ipython",
    "version": 3
   },
   "file_extension": ".py",
   "mimetype": "text/x-python",
   "name": "python",
   "nbconvert_exporter": "python",
   "pygments_lexer": "ipython3",
   "version": "3.12.4"
  }
 },
 "nbformat": 4,
 "nbformat_minor": 4
}
